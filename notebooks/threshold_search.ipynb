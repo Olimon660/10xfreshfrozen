{
 "cells": [
  {
   "cell_type": "code",
   "execution_count": 195,
   "metadata": {
    "ExecuteTime": {
     "end_time": "2019-10-16T06:17:16.451987Z",
     "start_time": "2019-10-16T06:17:16.444797Z"
    }
   },
   "outputs": [],
   "source": [
    "import numpy as np\n",
    "import scanpy as sc\n",
    "import numpy as np\n",
    "from scipy.stats import norm\n",
    "from matplotlib import pyplot as plt\n",
    "import seaborn as sns\n",
    "from scipy.stats.stats import pearsonr\n",
    "import scanpy as sc\n",
    "import pandas as pd\n",
    "import glob\n",
    "from tqdm import tqdm_notebook\n",
    "from joblib import Parallel, delayed\n",
    "import seaborn as sns\n",
    "import matplotlib.pyplot as plt\n",
    "from sklearn.metrics import r2_score\n",
    "from scipy import stats\n",
    "from sklearn.preprocessing import KBinsDiscretizer\n",
    "from scipy.ndimage.filters import gaussian_filter1d\n",
    "from scipy.stats import ks_2samp"
   ]
  },
  {
   "cell_type": "code",
   "execution_count": 209,
   "metadata": {
    "ExecuteTime": {
     "end_time": "2019-10-16T06:22:50.269919Z",
     "start_time": "2019-10-16T06:22:50.263179Z"
    }
   },
   "outputs": [],
   "source": [
    "def kl_divergence(p, q):\n",
    "    return np.sum(np.where((p != 0) & (q != 0), p * np.log(p / q), 0))\n",
    "def jensen_shannon_distance(p, q):\n",
    "    \"\"\"\n",
    "    method to compute the Jenson-Shannon Distance \n",
    "    between two probability distributions\n",
    "    \"\"\"\n",
    "\n",
    "    # convert the vectors into numpy arrays in case that they aren't\n",
    "    p = np.array(p)\n",
    "    q = np.array(q)\n",
    "\n",
    "    # calculate m\n",
    "    m = (p + q) / 2\n",
    "\n",
    "    # compute Jensen Shannon Divergence\n",
    "    divergence = (stats.entropy(p, m) + stats.entropy(q, m)) / 2\n",
    "\n",
    "    # compute the Jensen Shannon Distance\n",
    "    distance = np.sqrt(divergence)\n",
    "\n",
    "    return distance"
   ]
  },
  {
   "cell_type": "code",
   "execution_count": 280,
   "metadata": {
    "ExecuteTime": {
     "end_time": "2019-10-16T23:51:57.123962Z",
     "start_time": "2019-10-16T23:51:56.820430Z"
    }
   },
   "outputs": [
    {
     "data": {
      "text/plain": [
       "[<matplotlib.lines.Line2D at 0x7fe619f75358>]"
      ]
     },
     "execution_count": 280,
     "metadata": {},
     "output_type": "execute_result"
    },
    {
     "data": {
      "image/png": "[encoded data removed]",
      "text/plain": [
       "<Figure size 432x288 with 1 Axes>"
      ]
     },
     "metadata": {
      "needs_background": "light"
     },
     "output_type": "display_data"
    }
   ],
   "source": [
    "x = np.arange(-10, 10, 0.001)\n",
    "p = norm.pdf(x, 0, 2)\n",
    "q = norm.pdf(x, -1, 2)\n",
    "plt.title(f'KL(P||Q) = {jensen_shannon_distance(p, q):1.3f}, corr = {pearsonr(p,q)[0]:1.3f}')\n",
    "plt.plot(x, p)\n",
    "plt.plot(x, q, c='red')"
   ]
  },
  {
   "cell_type": "code",
   "execution_count": 26,
   "metadata": {
    "ExecuteTime": {
     "end_time": "2019-10-16T04:35:43.453808Z",
     "start_time": "2019-10-16T04:35:33.695971Z"
    }
   },
   "outputs": [
    {
     "data": {
      "application/vnd.jupyter.widget-view+json": {
       "model_id": "051378ee937d45889bcbfd3f9fb99e82",
       "version_major": 2,
       "version_minor": 0
      },
      "text/plain": [
       "HBox(children=(IntProgress(value=0, max=12), HTML(value='')))"
      ]
     },
     "metadata": {},
     "output_type": "display_data"
    },
    {
     "name": "stdout",
     "output_type": "stream",
     "text": [
      "\n"
     ]
    }
   ],
   "source": [
    "data_dict = {}\n",
    "gene_list = []\n",
    "for f in tqdm_notebook(glob.glob(\"/home/scai/processing_simoncai/10xfreshfrozen/data/adata/no_filter/*\")):\n",
    "    data = sc.read_h5ad(f)\n",
    "    f = f.replace('/home/scai/processing_simoncai/10xfreshfrozen/data/adata/no_filter/','').replace('.h5ad','')\n",
    "#     sc.pp.filter_cells(data, min_genes=5)\n",
    "#     sc.pp.filter_genes(data, min_counts=50)\n",
    "    #sc.pp.normalize_total(data)\n",
    "    data_dict[f] = data\n",
    "    gene_list = data.var_names"
   ]
  },
  {
   "cell_type": "code",
   "execution_count": 257,
   "metadata": {
    "ExecuteTime": {
     "end_time": "2019-10-16T22:43:25.683134Z",
     "start_time": "2019-10-16T22:43:22.992268Z"
    }
   },
   "outputs": [],
   "source": [
    "combined = {}\n",
    "s = 1\n",
    "for sample in sorted(data_dict):\n",
    "    sample_name = '_'.join(sample.split('_')[:3])\n",
    "    combined[sample_name] = np.log10(\n",
    "        np.sum(data_dict[sample].X.toarray(), axis=1) + 1)\n",
    "    combined[sample_name] = gaussian_filter1d(\n",
    "        np.histogram(combined[sample_name], bins=100, density=True)[0], s)"
   ]
  },
  {
   "cell_type": "code",
   "execution_count": 234,
   "metadata": {
    "ExecuteTime": {
     "end_time": "2019-10-16T06:37:22.939643Z",
     "start_time": "2019-10-16T06:37:22.905667Z"
    },
    "code_folding": []
   },
   "outputs": [],
   "source": [
    "global_min = np.min([np.min(combined[x]) for x in combined.keys()])\n",
    "global_max = np.max([np.max(combined[x]) for x in combined.keys()])\n",
    "n_bins = 50\n",
    "step = (global_max - global_min) / n_bins\n",
    "for i in range(n_bins):\n",
    "    left = global_min + i * step\n",
    "    right = global_min + (i+1) * step\n",
    "    j = 0\n",
    "    for sample in sorted(combined.keys()):\n",
    "        res[i, j] = np.sum(((combined[sample] >= left) & (combined[sample] < right)))\n",
    "        j += 1\n",
    "res = pd.DataFrame(res, columns=sorted(combined.keys()))\n",
    "res = res.apply(lambda x:x/np.sum(x), axis=0)\n",
    "res = res.apply(lambda x:gaussian_filter1d(x, 2), axis=0)"
   ]
  },
  {
   "cell_type": "code",
   "execution_count": 214,
   "metadata": {
    "ExecuteTime": {
     "end_time": "2019-10-16T06:23:31.258367Z",
     "start_time": "2019-10-16T06:23:31.252529Z"
    }
   },
   "outputs": [
    {
     "data": {
      "text/plain": [
       "Ks_2sampResult(statistic=0.18, pvalue=0.3959398631708505)"
      ]
     },
     "execution_count": 214,
     "metadata": {},
     "output_type": "execute_result"
    }
   ],
   "source": [
    "ks_2samp(res['D1A_FA3_THA'], res['D1B_FA3_THA'])"
   ]
  },
  {
   "cell_type": "code",
   "execution_count": 203,
   "metadata": {
    "ExecuteTime": {
     "end_time": "2019-10-16T06:20:36.951715Z",
     "start_time": "2019-10-16T06:20:36.945804Z"
    }
   },
   "outputs": [
    {
     "data": {
      "text/plain": [
       "Ks_2sampResult(statistic=0.32, pvalue=0.011511738725894704)"
      ]
     },
     "execution_count": 203,
     "metadata": {},
     "output_type": "execute_result"
    }
   ],
   "source": [
    "ks_2samp(res['D4X_FA3_FRE'], res['D4X_FA3_THA'])"
   ]
  },
  {
   "cell_type": "code",
   "execution_count": 258,
   "metadata": {
    "ExecuteTime": {
     "end_time": "2019-10-16T22:43:48.613179Z",
     "start_time": "2019-10-16T22:43:48.607325Z"
    }
   },
   "outputs": [
    {
     "data": {
      "text/plain": [
       "0.2182415801668931"
      ]
     },
     "execution_count": 258,
     "metadata": {},
     "output_type": "execute_result"
    }
   ],
   "source": [
    "jensen_shannon_distance(combined['D1A_FA3_THA'], combined['D1B_FA3_THA'])"
   ]
  },
  {
   "cell_type": "code",
   "execution_count": 275,
   "metadata": {
    "ExecuteTime": {
     "end_time": "2019-10-16T23:19:14.524082Z",
     "start_time": "2019-10-16T23:19:14.514619Z"
    }
   },
   "outputs": [
    {
     "name": "stdout",
     "output_type": "stream",
     "text": [
      "0.2182415801668931\n",
      "0.19846215622636876\n",
      "0.15265731190675338\n",
      "0.1821091763627629\n",
      "0.1878891611287712\n",
      "0.1993071654990308\n"
     ]
    }
   ],
   "source": [
    "print(jensen_shannon_distance(combined['D1A_FA3_THA'], combined['D1B_FA3_THA']))\n",
    "print(jensen_shannon_distance(combined['D1A_FA3_THA'], combined['D1X_FA3_FRE']))\n",
    "print(jensen_shannon_distance(combined['D1B_FA3_THA'], combined['D1X_FA3_FRE']))\n",
    "print(jensen_shannon_distance(combined['D1X_FA2_THA'], combined['D1X_FA2_FRE']))\n",
    "print(jensen_shannon_distance(combined['D4X_FA2_FRE'], combined['D4X_FA2_THA']))\n",
    "print(jensen_shannon_distance(combined['D4X_FA3_FRE'], combined['D4X_FA3_THA']))"
   ]
  },
  {
   "cell_type": "code",
   "execution_count": 273,
   "metadata": {
    "ExecuteTime": {
     "end_time": "2019-10-16T23:17:42.819691Z",
     "start_time": "2019-10-16T23:17:42.810030Z"
    }
   },
   "outputs": [
    {
     "name": "stdout",
     "output_type": "stream",
     "text": [
      "0.05934266324575063\n",
      "0.13230193412319596\n",
      "0.13820544055876782\n",
      "0.0784208241825218\n",
      "0.08252126021057812\n",
      "0.08060597678209064\n"
     ]
    }
   ],
   "source": [
    "print(stats.wasserstein_distance(combined['D1A_FA3_THA'], combined['D1B_FA3_THA']))\n",
    "print(stats.wasserstein_distance(combined['D1A_FA3_THA'], combined['D1X_FA3_FRE']))\n",
    "print(stats.wasserstein_distance(combined['D1B_FA3_THA'], combined['D1X_FA3_FRE']))\n",
    "print(stats.wasserstein_distance(combined['D1X_FA2_THA'], combined['D1X_FA2_FRE']))\n",
    "print(stats.wasserstein_distance(combined['D4X_FA2_FRE'], combined['D4X_FA2_THA']))\n",
    "print(stats.wasserstein_distance(combined['D4X_FA3_FRE'], combined['D4X_FA3_THA']))"
   ]
  },
  {
   "cell_type": "code",
   "execution_count": 281,
   "metadata": {
    "ExecuteTime": {
     "end_time": "2019-10-17T00:21:30.382070Z",
     "start_time": "2019-10-17T00:21:30.373791Z"
    }
   },
   "outputs": [
    {
     "name": "stdout",
     "output_type": "stream",
     "text": [
      "8.086869367908204\n",
      "5.459743490850042\n",
      "4.4160347075973005\n",
      "9.00620868262069\n",
      "15.612986019274937\n",
      "4.125066510454135\n"
     ]
    }
   ],
   "source": [
    "print(kl_divergence(combined['D1A_FA3_THA'], combined['D1B_FA3_THA']))\n",
    "print(kl_divergence(combined['D1X_FA3_FRE'], combined['D1A_FA3_THA']))\n",
    "print(kl_divergence(combined['D1X_FA3_FRE'], combined['D1B_FA3_THA']))\n",
    "print(kl_divergence(combined['D1X_FA2_FRE'], combined['D1X_FA2_THA']))\n",
    "print(kl_divergence(combined['D4X_FA2_FRE'], combined['D4X_FA2_THA']))\n",
    "print(kl_divergence(combined['D4X_FA3_FRE'], combined['D4X_FA3_THA']))"
   ]
  },
  {
   "cell_type": "code",
   "execution_count": 272,
   "metadata": {
    "ExecuteTime": {
     "end_time": "2019-10-16T23:09:19.545116Z",
     "start_time": "2019-10-16T23:09:19.342408Z"
    }
   },
   "outputs": [
    {
     "data": {
      "text/plain": [
       "[<matplotlib.lines.Line2D at 0x7fe61a13ca20>]"
      ]
     },
     "execution_count": 272,
     "metadata": {},
     "output_type": "execute_result"
    },
    {
     "data": {
      "image/png": "[encoded data removed]",
      "text/plain": [
       "<Figure size 432x288 with 1 Axes>"
      ]
     },
     "metadata": {
      "needs_background": "light"
     },
     "output_type": "display_data"
    }
   ],
   "source": [
    "plt.plot(range(combined['D1A_FA3_THA'].shape[0]),combined['D1A_FA3_THA'])"
   ]
  },
  {
   "cell_type": "code",
   "execution_count": 271,
   "metadata": {
    "ExecuteTime": {
     "end_time": "2019-10-16T23:09:18.004530Z",
     "start_time": "2019-10-16T23:09:17.798405Z"
    }
   },
   "outputs": [
    {
     "data": {
      "text/plain": [
       "[<matplotlib.lines.Line2D at 0x7fe640031160>]"
      ]
     },
     "execution_count": 271,
     "metadata": {},
     "output_type": "execute_result"
    },
    {
     "data": {
      "image/png": "[encoded data removed]",
      "text/plain": [
       "<Figure size 432x288 with 1 Axes>"
      ]
     },
     "metadata": {
      "needs_background": "light"
     },
     "output_type": "display_data"
    }
   ],
   "source": [
    "plt.plot(range(combined['D1B_FA3_THA'].shape[0]),combined['D1B_FA3_THA'])"
   ]
  },
  {
   "cell_type": "code",
   "execution_count": null,
   "metadata": {},
   "outputs": [],
   "source": []
  }
 ],
 "metadata": {
  "kernelspec": {
   "display_name": "Python 3",
   "language": "python",
   "name": "python3"
  },
  "language_info": {
   "codemirror_mode": {
    "name": "ipython",
    "version": 3
   },
   "file_extension": ".py",
   "mimetype": "text/x-python",
   "name": "python",
   "nbconvert_exporter": "python",
   "pygments_lexer": "ipython3",
   "version": "3.6.9"
  },
  "toc": {
   "base_numbering": 1,
   "nav_menu": {},
   "number_sections": true,
   "sideBar": true,
   "skip_h1_title": false,
   "title_cell": "Table of Contents",
   "title_sidebar": "Contents",
   "toc_cell": false,
   "toc_position": {},
   "toc_section_display": true,
   "toc_window_display": false
  }
 },
 "nbformat": 4,
 "nbformat_minor": 2
}
